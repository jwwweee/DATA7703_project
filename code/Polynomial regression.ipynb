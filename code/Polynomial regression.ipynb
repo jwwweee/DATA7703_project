{
 "cells": [
  {
   "cell_type": "code",
   "execution_count": 12,
   "id": "c7bf3141-b43d-47be-aa46-ffdece0c6409",
   "metadata": {},
   "outputs": [],
   "source": [
    "import pandas as pd\n",
    "from sklearn.preprocessing import StandardScaler\n",
    "import numpy as np\n",
    "import sklearn\n",
    "from sklearn.linear_model import LinearRegression\n",
    "from sklearn.preprocessing import PolynomialFeatures\n",
    "from sklearn.model_selection import train_test_split\n",
    "from sklearn.metrics import mean_squared_error\n",
    "from sklearn.metrics import r2_score\n",
    "from sklearn.metrics import mean_absolute_error\n",
    "from sklearn.metrics import log_loss"
   ]
  },
  {
   "cell_type": "code",
   "execution_count": 13,
   "id": "687560ce-db75-4cac-b244-c043c136378c",
   "metadata": {},
   "outputs": [],
   "source": [
    "#read the file\n",
    "Brisbanecbd_24 = pd.read_csv('data/Brisbanecbd_24.csv')"
   ]
  },
  {
   "cell_type": "code",
   "execution_count": 14,
   "id": "1479753e-add7-455b-af0a-79bb6f50b199",
   "metadata": {},
   "outputs": [],
   "source": [
    "X=Brisbanecbd_24.drop(columns=['gk','Wind Speed (m/s)'])\n",
    "y=Brisbanecbd_24.iloc[:,-1]"
   ]
  },
  {
   "cell_type": "code",
   "execution_count": 15,
   "id": "d4af2569-27f4-4766-9894-b3906d2cdf5c",
   "metadata": {},
   "outputs": [],
   "source": [
    "from sklearn.preprocessing import StandardScaler\n",
    "X1=StandardScaler().fit_transform(X)"
   ]
  },
  {
   "cell_type": "code",
   "execution_count": 20,
   "id": "c13014e0-d5af-444d-8031-43416741f208",
   "metadata": {},
   "outputs": [],
   "source": [
    "# poly = PolynomialFeatures(degree = 2, include_bias = False)\n",
    "# poly_features = poly.fit_transform(X1)\n",
    "\n",
    "X_train1,X_test1,y_train1,y_test1=train_test_split(X1,y,test_size=0.1,random_state=42)\n",
    "\n",
    "\n",
    "X_train=np.array(X_train1)\n",
    "X_test=np.array(X_test1)\n",
    "y_train=np.array(y_train1)\n",
    "y_test=np.array(y_test1)\n",
    "\n",
    "X_train,Y_train = sklearn.utils.shuffle(X_train, y_train1)"
   ]
  },
  {
   "cell_type": "code",
   "execution_count": 21,
   "id": "2a7658f9",
   "metadata": {},
   "outputs": [
    {
     "data": {
      "text/plain": [
       "(7884, 168)"
      ]
     },
     "execution_count": 21,
     "metadata": {},
     "output_type": "execute_result"
    }
   ],
   "source": [
    "X_train.shape"
   ]
  },
  {
   "cell_type": "code",
   "execution_count": 23,
   "id": "3fd279e6-8c60-49e7-821f-d606818d5c26",
   "metadata": {},
   "outputs": [],
   "source": [
    "#creat the polynomial regression model\n",
    "reg_model = LinearRegression()"
   ]
  },
  {
   "cell_type": "code",
   "execution_count": 24,
   "id": "f7ed3efc-e7ef-46a7-a0c0-f79ee6f77620",
   "metadata": {},
   "outputs": [
    {
     "data": {
      "text/plain": [
       "LinearRegression()"
      ]
     },
     "execution_count": 24,
     "metadata": {},
     "output_type": "execute_result"
    }
   ],
   "source": [
    "reg_model.fit(X_train,y_train)"
   ]
  },
  {
   "cell_type": "code",
   "execution_count": 25,
   "id": "03ace676-9599-4e53-ab20-d2d19e48fb52",
   "metadata": {},
   "outputs": [],
   "source": [
    "poly_reg_y_predicted = reg_model.predict(X_test)"
   ]
  },
  {
   "cell_type": "code",
   "execution_count": 26,
   "id": "ec09bdb3-b4bd-4fae-84c0-bbdcdb204fe9",
   "metadata": {},
   "outputs": [
    {
     "data": {
      "text/plain": [
       "0.35978877475200016"
      ]
     },
     "execution_count": 26,
     "metadata": {},
     "output_type": "execute_result"
    }
   ],
   "source": [
    "mse=mean_squared_error(y_test1, poly_reg_y_predicted)\n",
    "mse"
   ]
  },
  {
   "cell_type": "code",
   "execution_count": 27,
   "id": "ea4d141a-2c40-4ecd-a458-6519078f0f54",
   "metadata": {},
   "outputs": [
    {
     "data": {
      "text/plain": [
       "0.5998239531329173"
      ]
     },
     "execution_count": 27,
     "metadata": {},
     "output_type": "execute_result"
    }
   ],
   "source": [
    "rmse = np.sqrt(mse)\n",
    "rmse"
   ]
  },
  {
   "cell_type": "code",
   "execution_count": 28,
   "id": "5d23706e-e33b-407b-8881-dc75253e5ffe",
   "metadata": {},
   "outputs": [
    {
     "data": {
      "text/plain": [
       "-0.030851676958818963"
      ]
     },
     "execution_count": 28,
     "metadata": {},
     "output_type": "execute_result"
    }
   ],
   "source": [
    "r2_score(y_test1, poly_reg_y_predicted)"
   ]
  },
  {
   "cell_type": "code",
   "execution_count": null,
   "id": "47231507-6b86-4999-8fdd-d256f405f3e2",
   "metadata": {},
   "outputs": [
    {
     "data": {
      "text/plain": [
       "0.20904041281704996"
      ]
     },
     "execution_count": 248,
     "metadata": {},
     "output_type": "execute_result"
    }
   ],
   "source": [
    "mean_absolute_error(y_test1, poly_reg_y_predicted)"
   ]
  },
  {
   "cell_type": "code",
   "execution_count": null,
   "id": "33c4a2c2-0cc7-45e8-9632-171e498b48b8",
   "metadata": {},
   "outputs": [
    {
     "data": {
      "text/plain": [
       "0.6363326260654797"
      ]
     },
     "execution_count": 231,
     "metadata": {},
     "output_type": "execute_result"
    }
   ],
   "source": [
    "#get results\n",
    "poly_reg_model.intercept_"
   ]
  },
  {
   "cell_type": "code",
   "execution_count": null,
   "id": "bcbc56e9-f866-4ae5-a0e8-a8858c2a400e",
   "metadata": {},
   "outputs": [
    {
     "data": {
      "text/plain": [
       "array([-1.84709270e-02, -1.20310146e-01,  3.48739872e-01,  4.75969599e-02,\n",
       "        1.81964010e-02, -4.42968217e-02,  2.85009480e-02, -1.59877031e-02,\n",
       "        3.78036703e-02,  1.58456816e-02, -7.55335581e-03,  1.46791377e-02,\n",
       "        9.20909428e-02,  2.46984430e-02,  4.93662318e-02, -4.70107293e-02,\n",
       "        2.85279326e-02,  3.32016141e-02, -5.57007406e-02,  3.52342906e-02,\n",
       "        5.10001129e-02,  4.05254266e-02,  2.57777967e-02, -4.78735028e-02,\n",
       "        1.11349073e-02,  1.23890903e-02,  3.50824446e-04, -9.30120187e-02,\n",
       "        1.36794521e-02,  5.91209275e-03, -1.12132942e-01, -1.22775070e-02,\n",
       "        2.44628507e-02, -1.20658694e-02,  5.94109101e-03,  7.97223289e-03,\n",
       "       -1.83513923e-02, -4.35196509e-02,  2.27757119e-02, -2.66256067e-02,\n",
       "       -1.00283296e-02, -4.44689071e-04,  6.23028624e-03,  3.07217309e-02,\n",
       "       -1.55251850e-02,  9.93202123e-03,  3.58376929e-04,  5.97364329e-03,\n",
       "       -8.84056252e-03, -6.56353814e-03,  2.87485597e-03,  9.59205645e-03,\n",
       "        1.10797849e-02, -4.20243806e-03,  2.24558622e-02, -4.88132785e-02,\n",
       "        2.17963670e-05, -5.83115479e-03, -3.20060270e-02, -4.57427203e-03,\n",
       "       -1.79560488e-03,  1.15584370e-02, -1.30652986e-03, -6.67535019e-03,\n",
       "        2.71931390e-02,  1.78137165e-04, -1.54794574e-03, -5.80202253e-03,\n",
       "       -1.38628980e-03,  7.27107382e-03,  2.29400455e-02,  1.56716694e-02,\n",
       "        1.64354474e-03,  1.87764442e-02,  4.03131744e-03,  1.13009702e-02,\n",
       "       -3.44649292e-02,  2.67886280e-03,  9.92653602e-05,  3.50557055e-02,\n",
       "       -3.00304449e-03,  2.59317986e-04, -2.13835376e-02,  9.86528837e-03,\n",
       "       -9.03688827e-03,  5.06458553e-03, -4.08327357e-03,  2.91515042e-03,\n",
       "        9.13201781e-03, -1.50285836e-03,  2.33413970e-02, -3.26279243e-02,\n",
       "        4.70159443e-03, -8.35730379e-03,  3.88128866e-02,  5.90534138e-03,\n",
       "       -1.74281180e-03, -1.04440354e-02, -6.45269481e-03,  1.15812072e-03,\n",
       "       -2.83784398e-03,  6.61273399e-02, -3.71458105e-03,  7.09990433e-03,\n",
       "        6.64208907e-02, -8.08404637e-03, -2.44464971e-03,  2.75057999e-02,\n",
       "        3.75734336e-03,  4.60297740e-04,  7.59287483e-02, -8.93269531e-03,\n",
       "       -1.36550537e-02, -1.24356083e-02, -1.09710491e-02, -3.37619428e-05,\n",
       "        2.12229790e-03, -3.66878117e-03,  6.12843304e-03])"
      ]
     },
     "execution_count": 232,
     "metadata": {},
     "output_type": "execute_result"
    }
   ],
   "source": [
    "poly_reg_model.coef_"
   ]
  },
  {
   "cell_type": "code",
   "execution_count": null,
   "id": "0c9109b9-94aa-4192-b0be-b601ee0b0e2d",
   "metadata": {},
   "outputs": [],
   "source": []
  }
 ],
 "metadata": {
  "kernelspec": {
   "display_name": "Python 3.8.13 ('jw')",
   "language": "python",
   "name": "python3"
  },
  "language_info": {
   "codemirror_mode": {
    "name": "ipython",
    "version": 3
   },
   "file_extension": ".py",
   "mimetype": "text/x-python",
   "name": "python",
   "nbconvert_exporter": "python",
   "pygments_lexer": "ipython3",
   "version": "3.8.13"
  },
  "vscode": {
   "interpreter": {
    "hash": "5295500200158b3ce0cb5958c18a69c3c7e59dfa5b9254a7f34bf1f7f54ddefb"
   }
  }
 },
 "nbformat": 4,
 "nbformat_minor": 5
}

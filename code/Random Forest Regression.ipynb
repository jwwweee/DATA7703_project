{
 "cells": [
  {
   "cell_type": "code",
   "execution_count": null,
   "id": "c7bf3141-b43d-47be-aa46-ffdece0c6409",
   "metadata": {},
   "outputs": [],
   "source": [
    "import pandas as pd\n",
    "from sklearn.preprocessing import StandardScaler\n",
    "import numpy as np\n",
    "import sklearn\n",
    "from sklearn.ensemble import RandomForestRegressor\n",
    "from sklearn.model_selection import train_test_split\n",
    "from sklearn.metrics import mean_squared_error\n",
    "from sklearn.metrics import r2_score\n",
    "from sklearn.metrics import mean_absolute_error\n"
   ]
  },
  {
   "cell_type": "code",
   "execution_count": 2,
   "id": "687560ce-db75-4cac-b244-c043c136378c",
   "metadata": {},
   "outputs": [],
   "source": [
    "#read the file\n",
    "Brisbanecbd_24 = pd.read_csv('/Users/apple/Desktop/7703 Data cleaning/result/Brisbanecbd_24.csv')"
   ]
  },
  {
   "cell_type": "code",
   "execution_count": 3,
   "id": "1479753e-add7-455b-af0a-79bb6f50b199",
   "metadata": {},
   "outputs": [],
   "source": [
    "X=Brisbanecbd_24.drop(columns=['gk','Wind Speed (m/s)'])\n",
    "y=Brisbanecbd_24.iloc[:,-1]"
   ]
  },
  {
   "cell_type": "code",
   "execution_count": 4,
   "id": "d4af2569-27f4-4766-9894-b3906d2cdf5c",
   "metadata": {},
   "outputs": [],
   "source": [
    "from sklearn.preprocessing import StandardScaler\n",
    "X1=StandardScaler().fit_transform(X)"
   ]
  },
  {
   "cell_type": "code",
   "execution_count": 5,
   "id": "c13014e0-d5af-444d-8031-43416741f208",
   "metadata": {},
   "outputs": [],
   "source": [
    "#split the data randomly into a traning set(90%) and test set(10%)\n",
    "X_train1,X_test1,y_train1,y_test1=train_test_split(X1,y,test_size=0.1,random_state=42)\n",
    "X_train=np.array(X_train1)\n",
    "X_test=np.array(X_test1)\n",
    "y_train=np.array(y_train1)\n",
    "y_test=np.array(y_test1)\n",
    "X_train,y_train = sklearn.utils.shuffle(X_train, y_train)"
   ]
  },
  {
   "cell_type": "code",
   "execution_count": null,
   "id": "1163ae2e-b26f-4be0-8fb3-b1c70f81b329",
   "metadata": {},
   "outputs": [],
   "source": [
    "forest = RandomForestRegressor(n_estimators=100, criterion='squared_error', random_state=1, n_jobs=1)\n",
    "forest.fit(X_train,y_train)\n",
    "y_train_pred=forest.predict(X_train)\n",
    "y_test_pred=forest.predict(X_test)"
   ]
  },
  {
   "cell_type": "code",
   "execution_count": 245,
   "id": "ec09bdb3-b4bd-4fae-84c0-bbdcdb204fe9",
   "metadata": {},
   "outputs": [
    {
     "data": {
      "text/plain": [
       "0.08004048820075747"
      ]
     },
     "execution_count": 245,
     "metadata": {},
     "output_type": "execute_result"
    }
   ],
   "source": [
    "mse=mean_squared_error(y_test, y_test_pred)\n",
    "mse"
   ]
  },
  {
   "cell_type": "code",
   "execution_count": 246,
   "id": "ea4d141a-2c40-4ecd-a458-6519078f0f54",
   "metadata": {},
   "outputs": [
    {
     "data": {
      "text/plain": [
       "0.2829142771242863"
      ]
     },
     "execution_count": 246,
     "metadata": {},
     "output_type": "execute_result"
    }
   ],
   "source": [
    "rmse = np.sqrt(mse)\n",
    "rmse"
   ]
  },
  {
   "cell_type": "code",
   "execution_count": 247,
   "id": "5d23706e-e33b-407b-8881-dc75253e5ffe",
   "metadata": {},
   "outputs": [
    {
     "data": {
      "text/plain": [
       "0.7706713569837557"
      ]
     },
     "execution_count": 247,
     "metadata": {},
     "output_type": "execute_result"
    }
   ],
   "source": [
    "r2_score(y_test, y_test_pred)"
   ]
  },
  {
   "cell_type": "code",
   "execution_count": 248,
   "id": "47231507-6b86-4999-8fdd-d256f405f3e2",
   "metadata": {},
   "outputs": [
    {
     "data": {
      "text/plain": [
       "0.20904041281704996"
      ]
     },
     "execution_count": 248,
     "metadata": {},
     "output_type": "execute_result"
    }
   ],
   "source": [
    "mean_absolute_error(y_test, y_test_pred)"
   ]
  },
  {
   "cell_type": "code",
   "execution_count": null,
   "id": "0c9109b9-94aa-4192-b0be-b601ee0b0e2d",
   "metadata": {},
   "outputs": [],
   "source": []
  }
 ],
 "metadata": {
  "kernelspec": {
   "display_name": "Python 3.8.13 ('jw')",
   "language": "python",
   "name": "python3"
  },
  "language_info": {
   "codemirror_mode": {
    "name": "ipython",
    "version": 3
   },
   "file_extension": ".py",
   "mimetype": "text/x-python",
   "name": "python",
   "nbconvert_exporter": "python",
   "pygments_lexer": "ipython3",
   "version": "3.8.13"
  },
  "vscode": {
   "interpreter": {
    "hash": "5295500200158b3ce0cb5958c18a69c3c7e59dfa5b9254a7f34bf1f7f54ddefb"
   }
  }
 },
 "nbformat": 4,
 "nbformat_minor": 5
}

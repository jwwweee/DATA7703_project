{
 "cells": [
  {
   "cell_type": "code",
   "execution_count": 1,
   "id": "c7bf3141-b43d-47be-aa46-ffdece0c6409",
   "metadata": {},
   "outputs": [],
   "source": [
    "import pandas as pd\n",
    "from sklearn.preprocessing import StandardScaler\n",
    "import numpy as np\n",
    "import sklearn\n",
    "from sklearn.ensemble import RandomForestRegressor\n",
    "from sklearn.model_selection import train_test_split\n",
    "from sklearn.metrics import mean_squared_error\n",
    "from sklearn.metrics import r2_score\n",
    "from sklearn.metrics import mean_absolute_error\n"
   ]
  },
  {
   "cell_type": "code",
   "execution_count": 2,
   "id": "687560ce-db75-4cac-b244-c043c136378c",
   "metadata": {},
   "outputs": [],
   "source": [
    "#read the file\n",
    "Brisbanecbd_24 = pd.read_csv('data/Brisbanecbd_24.csv')"
   ]
  },
  {
   "cell_type": "code",
   "execution_count": 3,
   "id": "1479753e-add7-455b-af0a-79bb6f50b199",
   "metadata": {},
   "outputs": [],
   "source": [
    "X=Brisbanecbd_24.drop(columns=['gk','Wind Speed (m/s)'])\n",
    "y=Brisbanecbd_24.iloc[:,-1]"
   ]
  },
  {
   "cell_type": "code",
   "execution_count": 4,
   "id": "d4af2569-27f4-4766-9894-b3906d2cdf5c",
   "metadata": {},
   "outputs": [],
   "source": [
    "from sklearn.preprocessing import StandardScaler\n",
    "X1=StandardScaler().fit_transform(X)"
   ]
  },
  {
   "cell_type": "code",
   "execution_count": 251,
   "id": "c13014e0-d5af-444d-8031-43416741f208",
   "metadata": {},
   "outputs": [],
   "source": [
    "#split the data randomly into a traning set(90%) and test set(10%)\n",
    "X_train1,X_test1,y_train1,y_test1=train_test_split(X1,y,test_size=0.1)\n",
    "X_train=np.array(X_train1)\n",
    "X_test=np.array(X_test1)\n",
    "y_train=np.array(y_train1)\n",
    "y_test=np.array(y_test1)\n",
    "X_train,y_train = sklearn.utils.shuffle(X_train, y_train,random_state=1)"
   ]
  },
  {
   "cell_type": "code",
   "execution_count": 252,
   "id": "1163ae2e-b26f-4be0-8fb3-b1c70f81b329",
   "metadata": {},
   "outputs": [
    {
     "name": "stdout",
     "output_type": "stream",
     "text": [
      "Test Loss: 0.016796307674295487\n",
      "RMSE: 0.12960056972982598\n",
      "R2: 0.9537751761673449\n",
      "MAE: 0.08184903893142205\n"
     ]
    }
   ],
   "source": [
    "forest = RandomForestRegressor(n_estimators=80, criterion='squared_error', random_state=1, n_jobs=8,bootstrap=True)\n",
    "forest.fit(X_train,y_train)\n",
    "y_train_pred=forest.predict(X_train)\n",
    "y_test_pred=forest.predict(X_test)\n",
    "\n",
    "mse=mean_squared_error(y_test, y_test_pred)\n",
    "print('Test Loss:', mse)\n",
    "\n",
    "rmse = np.sqrt(mse)\n",
    "print('RMSE:', rmse)\n",
    "\n",
    "r2 = r2_score(y_test, y_test_pred)\n",
    "print(\"R2:\", r2)\n",
    "\n",
    "mae = mean_absolute_error(y_test, y_test_pred)\n",
    "print(\"MAE:\", mae)"
   ]
  },
  {
   "cell_type": "code",
   "execution_count": 253,
   "id": "ec09bdb3-b4bd-4fae-84c0-bbdcdb204fe9",
   "metadata": {},
   "outputs": [
    {
     "name": "stdout",
     "output_type": "stream",
     "text": [
      "Test Loss: 0.027307801955588393\n",
      "RMSE: 0.1652507245236413\n",
      "R2: 0.9248466770714204\n",
      "MAE: 0.10648293696041713\n"
     ]
    }
   ],
   "source": [
    "forest = RandomForestRegressor(n_estimators=80, criterion='squared_error', random_state=1, n_jobs=8,bootstrap=False)\n",
    "forest.fit(X_train,y_train)\n",
    "y_train_pred=forest.predict(X_train)\n",
    "y_test_pred=forest.predict(X_test)\n",
    "\n",
    "mse=mean_squared_error(y_test, y_test_pred)\n",
    "print('Test Loss:', mse)\n",
    "\n",
    "rmse = np.sqrt(mse)\n",
    "print('RMSE:', rmse)\n",
    "\n",
    "r2 = r2_score(y_test, y_test_pred)\n",
    "print(\"R2:\", r2)\n",
    "\n",
    "mae = mean_absolute_error(y_test, y_test_pred)\n",
    "print(\"MAE:\", mae)"
   ]
  },
  {
   "cell_type": "code",
   "execution_count": null,
   "id": "0c9109b9-94aa-4192-b0be-b601ee0b0e2d",
   "metadata": {},
   "outputs": [],
   "source": []
  }
 ],
 "metadata": {
  "kernelspec": {
   "display_name": "Python 3.8.13 ('jw')",
   "language": "python",
   "name": "python3"
  },
  "language_info": {
   "codemirror_mode": {
    "name": "ipython",
    "version": 3
   },
   "file_extension": ".py",
   "mimetype": "text/x-python",
   "name": "python",
   "nbconvert_exporter": "python",
   "pygments_lexer": "ipython3",
   "version": "3.8.13"
  },
  "vscode": {
   "interpreter": {
    "hash": "5295500200158b3ce0cb5958c18a69c3c7e59dfa5b9254a7f34bf1f7f54ddefb"
   }
  }
 },
 "nbformat": 4,
 "nbformat_minor": 5
}

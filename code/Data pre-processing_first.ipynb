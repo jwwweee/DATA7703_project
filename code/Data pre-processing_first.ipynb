{
 "cells": [
  {
   "cell_type": "code",
   "execution_count": 392,
   "id": "9094c2c5",
   "metadata": {},
   "outputs": [],
   "source": [
    "import pandas as pd\n",
    "import pickle"
   ]
  },
  {
   "cell_type": "code",
   "execution_count": 403,
   "id": "264360e2",
   "metadata": {},
   "outputs": [],
   "source": [
    "brisbanecbd_aq= pd.read_csv('data/brisbanecbd-aq-2020.csv')\n",
    "brisbanecbd_aq['Date_time'] = pd.to_datetime(brisbanecbd_aq['Date'] +' '+ brisbanecbd_aq['Time'])\n",
    "brisbanecbd_aq.set_index(\"Date_time\", inplace=True)\n",
    "brisbanecbd_aq = brisbanecbd_aq.drop(columns=['Date','Time','PM10 (ug/m^3)','PM2.5 (ug/m^3)','Visibility-reducing Particles (Mm^-1)'])\n",
    "df= pd.DataFrame(brisbanecbd_aq)\n",
    "df=df.interpolate(method='linear',axis=0,limit=None,inplace=False)\n",
    "num = df.isna().sum()\n",
    "X = df[['Wind Direction (degTN)','Wind Sigma Theta (deg)','Wind Speed Std Dev (m/s)','Air Temperature (degC)','Relative Humidity (%)','Rainfall (mm)','Barometric Pressure (hPa)']]\n",
    "Y = df['Wind Speed (m/s)']\n",
    "brisbanecbd= pd.concat([X,Y],axis=1)\n",
    "brisbanecbd.to_pickle('Brisbanecbd.pkl')"
   ]
  }
 ],
 "metadata": {
  "kernelspec": {
   "display_name": "Python 3 (ipykernel)",
   "language": "python",
   "name": "python3"
  },
  "language_info": {
   "codemirror_mode": {
    "name": "ipython",
    "version": 3
   },
   "file_extension": ".py",
   "mimetype": "text/x-python",
   "name": "python",
   "nbconvert_exporter": "python",
   "pygments_lexer": "ipython3",
   "version": "3.9.12"
  }
 },
 "nbformat": 4,
 "nbformat_minor": 5
}

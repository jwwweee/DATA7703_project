{
 "cells": [
  {
   "cell_type": "code",
   "execution_count": 1,
   "id": "55d21efd",
   "metadata": {},
   "outputs": [],
   "source": [
    "%matplotlib inline\n",
    "import pandas as pd\n",
    "import numpy as np\n",
    "import matplotlib.pyplot as plt\n",
    "from sklearn.svm import SVR\n",
    "from sklearn.preprocessing import StandardScaler\n",
    "from sklearn.model_selection import train_test_split\n",
    "from sklearn.metrics import mean_squared_error\n",
    "from sklearn.metrics import r2_score\n",
    "from sklearn.metrics import mean_absolute_error"
   ]
  },
  {
   "cell_type": "code",
   "execution_count": 2,
   "id": "f0f6e363",
   "metadata": {},
   "outputs": [],
   "source": [
    "#read the file\n",
    "df = pd.read_csv('data/Brisbanecbd_24.csv')"
   ]
  },
  {
   "cell_type": "code",
   "execution_count": 3,
   "id": "b81817da",
   "metadata": {},
   "outputs": [],
   "source": [
    "X=df.drop(columns=['gk','Wind Speed (m/s)'])\n",
    "y=df.iloc[:,-1]\n",
    "from sklearn.preprocessing import StandardScaler\n",
    "X1=StandardScaler().fit_transform(X)\n",
    "from sklearn.model_selection import train_test_split\n",
    "X_train1,X_test1,y_train1,y_test1=train_test_split(X1,y,test_size=0.1,random_state=10)\n",
    "X_train=np.array(X_train1)\n",
    "X_test=np.array(X_test1)\n",
    "y_train=np.array(y_train1)\n",
    "y_test=np.array(y_test1)"
   ]
  },
  {
   "cell_type": "code",
   "execution_count": 4,
   "id": "557719ae",
   "metadata": {},
   "outputs": [],
   "source": [
    "svr_rbf = SVR(kernel='rbf', C= 1e3, gamma=0.1)\n",
    "y_rbf = svr_rbf.fit(X_train,y_train)\n",
    "y_rbf_pre=svr_rbf.predict(X_test)"
   ]
  },
  {
   "cell_type": "code",
   "execution_count": 6,
   "id": "a3e6ac0b-6c28-41cf-ac13-4a6c31d3a8a4",
   "metadata": {},
   "outputs": [
    {
     "data": {
      "text/plain": [
       "0.26056040009705644"
      ]
     },
     "execution_count": 6,
     "metadata": {},
     "output_type": "execute_result"
    }
   ],
   "source": [
    "mse1=mean_squared_error(y_test,y_rbf_pre )\n",
    "mse1"
   ]
  },
  {
   "cell_type": "code",
   "execution_count": 7,
   "id": "40c2496f-b505-4a07-b5b1-efa4523fcdbc",
   "metadata": {},
   "outputs": [
    {
     "data": {
      "text/plain": [
       "0.510451173078343"
      ]
     },
     "execution_count": 7,
     "metadata": {},
     "output_type": "execute_result"
    }
   ],
   "source": [
    "rmse1 = np.sqrt(mse1)\n",
    "rmse1"
   ]
  },
  {
   "cell_type": "code",
   "execution_count": 8,
   "id": "c596a10e-bd51-4e52-b932-3f69a243be60",
   "metadata": {},
   "outputs": [
    {
     "data": {
      "text/plain": [
       "0.21578370035394356"
      ]
     },
     "execution_count": 8,
     "metadata": {},
     "output_type": "execute_result"
    }
   ],
   "source": [
    "r1=r2_score(y_test,y_rbf_pre)\n",
    "r1"
   ]
  },
  {
   "cell_type": "code",
   "execution_count": 9,
   "id": "6427ea8c-d6b0-4c08-9634-971247fe7336",
   "metadata": {},
   "outputs": [
    {
     "data": {
      "text/plain": [
       "0.40787265450901933"
      ]
     },
     "execution_count": 9,
     "metadata": {},
     "output_type": "execute_result"
    }
   ],
   "source": [
    "mae1=mean_absolute_error(y_test, y_rbf_pre)\n",
    "mae1"
   ]
  },
  {
   "cell_type": "code",
   "execution_count": 10,
   "id": "ae5778b0-138f-42d7-afa4-709f9b42abe3",
   "metadata": {},
   "outputs": [],
   "source": [
    "svr_lin = SVR(kernel='linear', C= 1e3, gamma=0.1)\n",
    "y_lin = svr_lin.fit(X_train,y_train)\n",
    "y_lin_pre=svr_lin.predict(X_test)"
   ]
  },
  {
   "cell_type": "code",
   "execution_count": null,
   "id": "670f2ce4-9128-4fda-9ce0-e6f51d9da6f1",
   "metadata": {},
   "outputs": [
    {
     "ename": "NameError",
     "evalue": "name 'y_lin_pre' is not defined",
     "output_type": "error",
     "traceback": [
      "\u001b[0;31m---------------------------------------------------------------------------\u001b[0m",
      "\u001b[0;31mNameError\u001b[0m                                 Traceback (most recent call last)",
      "\u001b[1;32m/Users/jiezhang/Downloads/Support Vector Machine Regression  (2).ipynb Cell 10\u001b[0m in \u001b[0;36m<cell line: 1>\u001b[0;34m()\u001b[0m\n\u001b[0;32m----> <a href='vscode-notebook-cell:/Users/jiezhang/Downloads/Support%20Vector%20Machine%20Regression%20%20%282%29.ipynb#X16sZmlsZQ%3D%3D?line=0'>1</a>\u001b[0m mse2\u001b[39m=\u001b[39mmean_squared_error(y_test,y_lin_pre )\n\u001b[1;32m      <a href='vscode-notebook-cell:/Users/jiezhang/Downloads/Support%20Vector%20Machine%20Regression%20%20%282%29.ipynb#X16sZmlsZQ%3D%3D?line=1'>2</a>\u001b[0m mse2\n",
      "\u001b[0;31mNameError\u001b[0m: name 'y_lin_pre' is not defined"
     ]
    }
   ],
   "source": [
    "mse2=mean_squared_error(y_test,y_lin_pre )\n",
    "mse2"
   ]
  },
  {
   "cell_type": "code",
   "execution_count": null,
   "id": "37a896f4-5f43-4ccd-86cc-57193b0cfff3",
   "metadata": {},
   "outputs": [],
   "source": [
    "rmse2 = np.sqrt(mse2)\n",
    "rmse2"
   ]
  },
  {
   "cell_type": "code",
   "execution_count": null,
   "id": "49b199bd-a78b-4c84-beda-7dd4ddfed628",
   "metadata": {},
   "outputs": [],
   "source": [
    "r2=r2_score(Y_test,y_lin)"
   ]
  },
  {
   "cell_type": "code",
   "execution_count": null,
   "id": "dd098523-1fb7-4c9a-9e71-bd0056f37907",
   "metadata": {},
   "outputs": [],
   "source": [
    "mae2=mean_absolute_error(Y_test, y_lin)"
   ]
  },
  {
   "cell_type": "code",
   "execution_count": null,
   "id": "a869c962-ec58-4506-a34f-3024db741841",
   "metadata": {},
   "outputs": [],
   "source": [
    "svr_poly = SVR(kernel='poly', C= 1e3, degree=2)\n",
    "y_poly = svr_poly.fit(X_train,Y_train).predict(X_test)"
   ]
  },
  {
   "cell_type": "code",
   "execution_count": null,
   "id": "ecd6edd3-cc4b-4352-82ce-ed6d4b4a5839",
   "metadata": {},
   "outputs": [],
   "source": [
    "mse3=mean_squared_error(Y_test,y_poly )\n",
    "mse3"
   ]
  },
  {
   "cell_type": "code",
   "execution_count": null,
   "id": "0f3d2dd6-fd2d-4489-afaa-6096b5e2a9f0",
   "metadata": {},
   "outputs": [],
   "source": [
    "rmse3 = np.sqrt(mse3)\n",
    "rmse3"
   ]
  },
  {
   "cell_type": "code",
   "execution_count": null,
   "id": "055c12b3-a676-4a0b-b70a-b37d799d7df2",
   "metadata": {},
   "outputs": [],
   "source": [
    "r3=r2_score(Y_test,y_poly)"
   ]
  },
  {
   "cell_type": "code",
   "execution_count": null,
   "id": "865f7097-0349-46d5-839a-f74d5c784fc3",
   "metadata": {},
   "outputs": [],
   "source": [
    "mae3=mean_absolute_error(Y_test, y_poly)"
   ]
  },
  {
   "cell_type": "code",
   "execution_count": null,
   "id": "d38ab0d1",
   "metadata": {},
   "outputs": [],
   "source": [
    "lw=2\n",
    "plt.scatter(X,y, color='darkoranger', label='data')\n",
    "plt.hold('on')\n",
    "plt.plot(X_test,y_rbf, color='navy',lw=lw, label='RBF model')\n",
    "plt.plot(X_test, y_lin, color='c',lw=lw, label='Linear model')\n",
    "plt.plot(X_test,y_poly, color='cornflowerblue', lw=lw, label='Polynomial model')\n",
    "plt.xlabel('data')\n",
    "plt.ylabel('target')\n",
    "plt.title('Support Vector Regression')\n",
    "plt.legend()\n",
    "plt.show()"
   ]
  }
 ],
 "metadata": {
  "kernelspec": {
   "display_name": "Python 3.8.13 ('jw')",
   "language": "python",
   "name": "python3"
  },
  "language_info": {
   "codemirror_mode": {
    "name": "ipython",
    "version": 3
   },
   "file_extension": ".py",
   "mimetype": "text/x-python",
   "name": "python",
   "nbconvert_exporter": "python",
   "pygments_lexer": "ipython3",
   "version": "3.8.13"
  },
  "vscode": {
   "interpreter": {
    "hash": "5295500200158b3ce0cb5958c18a69c3c7e59dfa5b9254a7f34bf1f7f54ddefb"
   }
  }
 },
 "nbformat": 4,
 "nbformat_minor": 5
}

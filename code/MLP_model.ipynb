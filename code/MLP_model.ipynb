{
 "cells": [
  {
   "cell_type": "code",
   "execution_count": 54,
   "metadata": {},
   "outputs": [
    {
     "data": {
      "text/plain": [
       "(8761, 170)"
      ]
     },
     "execution_count": 54,
     "metadata": {},
     "output_type": "execute_result"
    }
   ],
   "source": [
    "import numpy as np\n",
    "import pandas as pd \n",
    "import matplotlib.pyplot as plt\n",
    "from sklearn.model_selection import train_test_split\n",
    "df=pd.read_csv(\"data/Brisbanecbd_24.csv\")\n",
    "df.shape"
   ]
  },
  {
   "cell_type": "code",
   "execution_count": 55,
   "metadata": {},
   "outputs": [],
   "source": [
    "X=df.drop(columns=['gk','Wind Speed (m/s)'])\n",
    "y=df.iloc[:,-1]"
   ]
  },
  {
   "cell_type": "code",
   "execution_count": 56,
   "metadata": {},
   "outputs": [],
   "source": [
    "from sklearn.preprocessing import StandardScaler\n",
    "X1=StandardScaler().fit_transform(X)\n",
    "from sklearn.model_selection import train_test_split\n",
    "X_train1,X_test1,y_train1,y_test1=train_test_split(X1,y,test_size=0.1,random_state=101)\n",
    "X_train=np.array(X_train1)\n",
    "X_test=np.array(X_test1)\n",
    "y_train=np.array(y_train1)\n",
    "y_test=np.array(y_test1)"
   ]
  },
  {
   "cell_type": "code",
   "execution_count": 57,
   "metadata": {},
   "outputs": [
    {
     "name": "stdout",
     "output_type": "stream",
     "text": [
      "0.06655772291288377\n",
      "(0.25798783481568227+0j)\n",
      "0.2089911495609539\n",
      "0.7381764761225759\n"
     ]
    }
   ],
   "source": [
    "from cmath import sqrt\n",
    "from sklearn.neural_network import MLPRegressor\n",
    "from sklearn.metrics import mean_absolute_error\n",
    "regr = MLPRegressor(hidden_layer_sizes=(128,2),  activation='relu', solver='adam', alpha=0, batch_size='auto',\n",
    "    learning_rate='constant', learning_rate_init=0.001, power_t=0, max_iter=1000, shuffle=False,\n",
    "    random_state=1, tol=0, verbose=False, warm_start=False, momentum=0, nesterovs_momentum=False,\n",
    "    early_stopping=False,beta_1=0.999999999999999,beta_2=0.9999999999, epsilon=1E-100).fit(X_train,y_train)\n",
    "y_pred=regr.predict(X_test)\n",
    "from sklearn.metrics import mean_squared_error\n",
    "from sklearn.metrics import r2_score\n",
    "r2 = r2_score(y_pred, y_test)\n",
    "mse=mean_squared_error(y_test, y_pred)\n",
    "rmse=sqrt(mse)\n",
    "mae=mean_absolute_error(y_test, y_pred)\n",
    "print(mse)\n",
    "print(rmse)\n",
    "print(mae)\n",
    "print(r2)"
   ]
  }
 ],
 "metadata": {
  "kernelspec": {
   "display_name": "Python 3.9.12 ('base')",
   "language": "python",
   "name": "python3"
  },
  "language_info": {
   "codemirror_mode": {
    "name": "ipython",
    "version": 3
   },
   "file_extension": ".py",
   "mimetype": "text/x-python",
   "name": "python",
   "nbconvert_exporter": "python",
   "pygments_lexer": "ipython3",
   "version": "3.9.12"
  },
  "orig_nbformat": 4,
  "vscode": {
   "interpreter": {
    "hash": "f9d195aa5593a72e74ba9300a565dfa459c9c69a1782fe80348945f3fa15309e"
   }
  }
 },
 "nbformat": 4,
 "nbformat_minor": 2
}
